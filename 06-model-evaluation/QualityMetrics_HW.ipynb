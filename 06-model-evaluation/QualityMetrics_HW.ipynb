{
 "cells": [
  {
   "cell_type": "markdown",
   "metadata": {
    "colab_type": "text",
    "id": "view-in-github"
   },
   "source": [
    "<a href=\"https://colab.research.google.com/github/HSE-LAMBDA/MLDM-2022/blob/master/06-model-evaluation/QualityMetrics_HW.ipynb\" target=\"_parent\"><img src=\"https://colab.research.google.com/assets/colab-badge.svg\" alt=\"Open In Colab\"/></a>"
   ]
  },
  {
   "cell_type": "markdown",
   "metadata": {
    "id": "Ij_zY4soDF2Z"
   },
   "source": [
    "# Cross-validation riddle"
   ]
  },
  {
   "cell_type": "markdown",
   "metadata": {
    "id": "qUCsY5OlDJPl"
   },
   "source": [
    "Here's a small example of cross-validation done wrongly. Can you spot the problem?"
   ]
  },
  {
   "cell_type": "code",
   "execution_count": 11,
   "metadata": {
    "id": "mSUzkXsC-R4H",
    "ExecuteTime": {
     "end_time": "2023-10-31T13:27:17.708970700Z",
     "start_time": "2023-10-31T13:27:17.698278200Z"
    }
   },
   "outputs": [],
   "source": [
    "# Some imports...\n",
    "import numpy as np\n",
    "import matplotlib.pyplot as plt\n",
    "\n",
    "from sklearn.model_selection import train_test_split\n",
    "from sklearn.pipeline import make_pipeline\n",
    "from sklearn.svm import LinearSVC\n",
    "from sklearn.model_selection import KFold, cross_val_score\n",
    "from sklearn.metrics import accuracy_score"
   ]
  },
  {
   "cell_type": "markdown",
   "metadata": {
    "id": "ZyDp3Xc_DaDM"
   },
   "source": [
    "**Plan:**\n",
    "\n",
    "- Let's create a binary classification dataset where targets are completely independent from the features\n",
    "  - *(i.e. no model could ever predict them well)*\n",
    "- We'll do some simple feature selection\n",
    "- And cross-validate a model on this data\n",
    "\n",
    "**Q:** what accuracy do we expect (classes are even)?"
   ]
  },
  {
   "cell_type": "markdown",
   "metadata": {
    "id": "IHx51DKP8Rcf"
   },
   "source": [
    "We'll start from writing a class to select the best features:"
   ]
  },
  {
   "cell_type": "code",
   "execution_count": 2,
   "metadata": {
    "id": "rRNmKZJJ8W7x",
    "ExecuteTime": {
     "end_time": "2023-10-31T12:42:42.601425100Z",
     "start_time": "2023-10-31T12:42:42.587683900Z"
    }
   },
   "outputs": [],
   "source": [
    "class FeatureSelector:\n",
    "  def __init__(self, num_features):\n",
    "    self.n = num_features # number of best features to select\n",
    "\n",
    "  def fit(self, X, y):\n",
    "    # Select features that describe the targets best, i.e. have\n",
    "    # highest correlation with them:\n",
    "    covariance = ((X - X.mean(axis=0)) * (y[:,np.newaxis] - y.mean())).mean(axis=0)\n",
    "    self.best_feature_ids = np.argsort(np.abs(covariance))[-self.n:]\n",
    "\n",
    "  def transform(self, X):\n",
    "    return X[:,self.best_feature_ids]\n",
    "\n",
    "  def fit_transform(self, X, y):\n",
    "    self.fit(X, y)\n",
    "    return self.transform(X)"
   ]
  },
  {
   "cell_type": "code",
   "execution_count": 6,
   "metadata": {
    "colab": {
     "base_uri": "https://localhost:8080/",
     "height": 34
    },
    "id": "6mu9gHgNBk_V",
    "outputId": "b2ca1fe5-90ae-4792-d193-9dc51f460382",
    "ExecuteTime": {
     "end_time": "2023-10-31T12:56:22.574470200Z",
     "start_time": "2023-10-31T12:56:22.163886500Z"
    }
   },
   "outputs": [
    {
     "name": "stdout",
     "output_type": "stream",
     "text": [
      "CV score is 0.9700000000000001\n"
     ]
    }
   ],
   "source": [
    "num_features_total = 1000\n",
    "num_features_best = 100\n",
    "\n",
    "N = 100\n",
    "\n",
    "# Dataset generation\n",
    "X = np.random.normal(size=(N, num_features_total))\n",
    "y = np.random.randint(2, size=N)\n",
    "\n",
    "# Feature selection:\n",
    "X_best = FeatureSelector(num_features_best).fit_transform(X, y)\n",
    "\n",
    "# Simple classification model\n",
    "model = LinearSVC()\n",
    "\n",
    "# Estimatin accuracy using cross-validation:\n",
    "cv_score = cross_val_score(model, X_best, y, scoring='accuracy', cv=10, n_jobs=-1).mean()\n",
    "print(f\"CV score is {cv_score}\")"
   ]
  },
  {
   "cell_type": "markdown",
   "metadata": {
    "id": "afadN3ZVFKjF"
   },
   "source": [
    "What's going on?! Why accuracy is so high?\n",
    "\n",
    "Maybe it just happened by chance? Let's repeat this experiment many times and histogram the results:"
   ]
  },
  {
   "cell_type": "code",
   "execution_count": 4,
   "metadata": {
    "colab": {
     "base_uri": "https://localhost:8080/",
     "height": 265
    },
    "id": "QDbOMXnuC6uw",
    "outputId": "0722aeed-f580-406b-d93b-729581edb8ec",
    "ExecuteTime": {
     "end_time": "2023-10-31T12:42:53.900731700Z",
     "start_time": "2023-10-31T12:42:51.459059300Z"
    }
   },
   "outputs": [
    {
     "data": {
      "text/plain": "<Figure size 640x480 with 1 Axes>",
      "image/png": "[encoded data removed]"
     },
     "metadata": {},
     "output_type": "display_data"
    }
   ],
   "source": [
    "num_features_total = 1000\n",
    "num_features_best = 100\n",
    "\n",
    "N = 100\n",
    "def experiment():\n",
    "  # Dataset generation\n",
    "  X = np.random.normal(size=(N, num_features_total))\n",
    "  y = np.random.randint(2, size=N)\n",
    "\n",
    "  # Feature selection:\n",
    "  X_best = FeatureSelector(num_features_best).fit_transform(X, y)\n",
    "\n",
    "  # Simple classification model\n",
    "  model = LinearSVC()\n",
    "\n",
    "  # Estimatin accuracy using cross-validation:\n",
    "  return cross_val_score(model, X_best, y, scoring='accuracy', cv=10, n_jobs=-1).mean()\n",
    "\n",
    "results = [experiment() for _ in range(100)]\n",
    "plt.hist(results, bins=10)"
   ]
  },
  {
   "cell_type": "markdown",
   "metadata": {
    "id": "DMYRjjqOLB5Z"
   },
   "source": [
    "## Task 1 (3 points)"
   ]
  },
  {
   "cell_type": "markdown",
   "metadata": {
    "id": "8bLaEypoF5pb"
   },
   "source": [
    "Explain why the estimated model accuracy is not 50% on a dataset where targets were generated **independently from the features (!!!)**.\n",
    "\n",
    "Find and fix the problem (don't change the dataset generation or its parameters - `num_features_total`, `num_features_best`, `N`).\n",
    "\n",
    "*Hint: the problem is in the overall logic, and not a bug in the code.*"
   ]
  },
  {
   "cell_type": "markdown",
   "source": [
    "Проблема: один раз для полного датасета находятся лучшие параметры, а надо на каждом фолде на трейне искать лучшие параметры."
   ],
   "metadata": {
    "collapsed": false
   }
  },
  {
   "cell_type": "code",
   "execution_count": 12,
   "metadata": {
    "id": "EfT36WPTLyqB",
    "ExecuteTime": {
     "end_time": "2023-10-31T13:30:48.669856100Z",
     "start_time": "2023-10-31T13:30:43.812824300Z"
    }
   },
   "outputs": [
    {
     "data": {
      "text/plain": "<Figure size 640x480 with 1 Axes>",
      "image/png": "[encoded data removed]"
     },
     "metadata": {},
     "output_type": "display_data"
    }
   ],
   "source": [
    "num_features_total = 1000\n",
    "num_features_best = 100\n",
    "\n",
    "N = 100\n",
    "def experiment():\n",
    "  # Dataset generation\n",
    "  X = np.random.normal(size=(N, num_features_total))\n",
    "  y = np.random.randint(2, size=N)\n",
    "\n",
    "  model = make_pipeline(\n",
    "    FeatureSelector(num_features_best),\n",
    "    LinearSVC()\n",
    "  )\n",
    "\n",
    "  # Estimatin accuracy using cross-validation:\n",
    "  return cross_val_score(model, X, y, scoring='accuracy', cv=10, n_jobs=-1).mean()\n",
    "\n",
    "results = [experiment() for _ in range(100)]\n",
    "plt.hist(results, bins=10);"
   ]
  },
  {
   "cell_type": "markdown",
   "metadata": {},
   "source": [
    "## Task 2 (3 points)"
   ]
  },
  {
   "cell_type": "markdown",
   "metadata": {},
   "source": [
    "Let's come back to Task 3 of Data Handling HW.\n",
    "Build a model with KNeighborsClassifier to get a higher accuracy on 5-fold Cross Validation than you achieve using your previosly fitted model (you can just copy the params from the previous notebook). \n",
    "\n",
    "Use `sklearn.model_selection.GridSearchCV` to find best parameters.  You may check the parameters'  description as follows:\n",
    "``` python\n",
    "help(KNeighborsClassifier)\n",
    "```"
   ]
  },
  {
   "cell_type": "code",
   "execution_count": 15,
   "metadata": {
    "ExecuteTime": {
     "end_time": "2023-10-31T13:46:13.080513300Z",
     "start_time": "2023-10-31T13:46:13.054382Z"
    }
   },
   "outputs": [],
   "source": [
    "import pandas as pd\n",
    "from sklearn.metrics import accuracy_score\n",
    "from sklearn.model_selection import GridSearchCV\n",
    "from sklearn.neighbors import KNeighborsClassifier\n",
    "\n",
    "data = pd.read_csv(\"train.csv\", index_col='PassengerId')"
   ]
  },
  {
   "cell_type": "code",
   "execution_count": 17,
   "outputs": [],
   "source": [
    "class FeaturePreprocessor:\n",
    "  def fit(self, X, y):\n",
    "    # Select features that describe the targets best, i.e. have\n",
    "    # highest correlation with them:\n",
    "    self.mean_fare = X['Fare'].mean()\n",
    "\n",
    "\n",
    "  def transform(self, X):\n",
    "    features = X[[\"Fare\", \"Parch\", \"SibSp\"]].copy()\n",
    "    features['Fare'] /= self.mean_fare\n",
    "    features['Fare'] *= 1\n",
    "    return features\n",
    "\n",
    "  def fit_transform(self, X, y):\n",
    "    self.fit(X, y)\n",
    "    return self.transform(X)"
   ],
   "metadata": {
    "collapsed": false,
    "ExecuteTime": {
     "end_time": "2023-10-31T13:59:34.257052400Z",
     "start_time": "2023-10-31T13:59:34.242671500Z"
    }
   }
  },
  {
   "cell_type": "code",
   "execution_count": 56,
   "outputs": [],
   "source": [
    "def feature_selection_and_preprocessing(dataset):\n",
    "  # <YOUR CODE>\n",
    "  # E.g.:\n",
    "  features = dataset[[\"Fare\", \"Parch\", \"SibSp\"]].copy()\n",
    "  features[\"Fare\"] /= features[\"Fare\"].mean()\n",
    "\n",
    "  features['Fare'] *= 1\n",
    "  return features"
   ],
   "metadata": {
    "collapsed": false,
    "ExecuteTime": {
     "end_time": "2023-10-31T14:44:29.742945400Z",
     "start_time": "2023-10-31T14:44:29.731856700Z"
    }
   }
  },
  {
   "cell_type": "code",
   "execution_count": 60,
   "outputs": [],
   "source": [
    "def group_cabin(cabin):\n",
    "    if cabin in ['A','B','C','T']:\n",
    "        return 0\n",
    "    elif cabin in ['D','E']:\n",
    "        return 1\n",
    "    elif cabin in ['F','G']:\n",
    "        return 2\n",
    "    else:\n",
    "        return 3"
   ],
   "metadata": {
    "collapsed": false,
    "ExecuteTime": {
     "end_time": "2023-10-31T14:46:58.135550700Z",
     "start_time": "2023-10-31T14:46:58.127046300Z"
    }
   }
  },
  {
   "cell_type": "code",
   "execution_count": 73,
   "outputs": [],
   "source": [
    "def feature_selection_and_preprocessing(dataset: pd.DataFrame) -> pd.DataFrame:\n",
    "    features = dataset[[\"Fare\", 'Pclass', 'Age']].copy()\n",
    "    features[\"Age\"] = dataset.Age.fillna(28.)  # Почти единственное, что тут было, и, вроде как, не очень правильное, поэтому чуть-чуть хардкода, чтобы не выдавало ошибок\n",
    "    features[\"Log_Fare\"] = np.log(features[\"Fare\"] + 1)\n",
    "    features['Embarked'] = dataset.Embarked.fillna('S')\n",
    "    features['Missing'] = dataset.isna().sum(axis=1)\n",
    "    features['IsMale'] = np.where(dataset.Sex=='male', 1, 0)\n",
    "    features['Companions'] = dataset.SibSp + dataset.Parch\n",
    "    features['IsAlone'] = np.where((dataset.SibSp == 0) & (dataset.Parch == 0), 1, 0)\n",
    "    features['Embarked_S'] = np.where(features.Embarked == 'S', 1, 0) # ДА, это ручной onehot\n",
    "    features['Embarked_C'] = np.where(features.Embarked == 'C', 1 ,0)\n",
    "    features.drop('Embarked', axis=1, inplace=True)\n",
    "    features['Prefix'] = data.Name.apply(lambda x: x.split(',')[1].split('.')[0]).apply(\n",
    "        lambda y: 'other' if y in (data.Name.apply(lambda x: x.split(',')[1].split('.')[0]).value_counts())\n",
    "        [(data.Name.apply(lambda x: x.split(',')[1].split('.')[0]).value_counts() <= 5)]\n",
    "        else y)  # Вычленяем префиксы имен и заменяем те, что встречаются 1 раз на other (да, я знаю, что это можно сделать в разы более читаемо)\n",
    "    features['Cabin_Group'] = dataset.Cabin.fillna('Z').apply(lambda x: x[0]).apply(lambda y: group_cabin(y)) # Вычленяем первую букву и превращаем в цифру в зависимости от группы\n",
    "\n",
    "    return features"
   ],
   "metadata": {
    "collapsed": false,
    "ExecuteTime": {
     "end_time": "2023-10-31T15:41:21.776550200Z",
     "start_time": "2023-10-31T15:41:21.763717300Z"
    }
   }
  },
  {
   "cell_type": "code",
   "execution_count": 62,
   "outputs": [],
   "source": [
    "import pandas as pd\n",
    "import matplotlib.pyplot as plt\n",
    "import seaborn as sns\n",
    "import numpy as np\n",
    "from sklearn.linear_model import LogisticRegression\n",
    "from sklearn.pipeline import make_pipeline\n",
    "from sklearn.compose import make_column_transformer\n",
    "from sklearn.preprocessing import StandardScaler, RobustScaler, PolynomialFeatures, OneHotEncoder\n",
    "from sklearn.metrics import accuracy_score\n",
    "from sklearn.model_selection import train_test_split\n",
    "from sklearn.feature_selection import RFE\n",
    "from sklearn.base import BaseEstimator, TransformerMixin\n",
    "from sklearn.impute import SimpleImputer"
   ],
   "metadata": {
    "collapsed": false,
    "ExecuteTime": {
     "end_time": "2023-10-31T14:48:43.999625800Z",
     "start_time": "2023-10-31T14:48:43.857029100Z"
    }
   }
  },
  {
   "cell_type": "code",
   "execution_count": 84,
   "metadata": {
    "ExecuteTime": {
     "end_time": "2023-10-31T16:00:02.331599600Z",
     "start_time": "2023-10-31T15:59:20.092604400Z"
    }
   },
   "outputs": [
    {
     "name": "stdout",
     "output_type": "stream",
     "text": [
      "0.8260372857949909\n",
      "{'kneighborsclassifier__n_neighbors': 16, 'kneighborsclassifier__p': 2.0, 'kneighborsclassifier__weights': 'uniform'}\n"
     ]
    }
   ],
   "source": [
    "np.random.seed(42)\n",
    "\n",
    "model = make_pipeline(\n",
    "    make_column_transformer(\n",
    "        (SimpleImputer(strategy='median', copy=False), ['Age']), # Как я понимаю, с пропусками надо работать этой штукой, а не грубой вставкой из данных по всему датасету\n",
    "        (OneHotEncoder(sparse_output=False), ['Prefix']),\n",
    "        # (PolynomialFeatures(3), ['Companions', 'Missing', 'Pclass', 'Fare', 'Log_Fare', 'Age']),\n",
    "        remainder='passthrough'\n",
    "    ),\n",
    "    StandardScaler(),\n",
    "    KNeighborsClassifier()\n",
    ")\n",
    "\n",
    "data = pd.read_csv(\"train.csv\", index_col='PassengerId')\n",
    "\n",
    "# cross_val_score(model, data, data['Survived'], scoring='accuracy', cv=5, n_jobs=-1).mean()\n",
    "# param_grid = {'kneighborsclassifier__n_neighbors': np.arange(1, 40), 'kneighborsclassifier__weights':['uniform', 'distance'], 'kneighborsclassifier__p': np.linspace(1, 3 ,10)}\n",
    "param_grid = {'kneighborsclassifier__n_neighbors': np.arange(5, 40), 'kneighborsclassifier__p': np.linspace(1, 4 ,10), 'kneighborsclassifier__weights':['uniform', 'distance']}\n",
    "gcv = GridSearchCV(model, param_grid, scoring='accuracy', cv=5, n_jobs=-1)\n",
    "gcv.fit(feature_selection_and_preprocessing(data), data['Survived'])\n",
    "# model.fit(feature_selection_and_preprocessing(data), data['Survived'])\n",
    "print(gcv.best_score_)\n",
    "print(gcv.best_params_)"
   ]
  },
  {
   "cell_type": "markdown",
   "source": [
    "Просто перебирать параметры классификатора по сетке с той предобработкой, что была в первом дз, оказалось недостаточным, чтобы добиться accuracy больше 0.77, поэтому просто скопировал модель из 3 дз. Заданию вроде как не противоречит. Модель с kNN построил? Построил. Кросс-валидацию на 5 фолдов использовал? Использовал. Лучше метрика, чем в 1 дз? Лучше."
   ],
   "metadata": {
    "collapsed": false
   }
  }
 ],
 "metadata": {
  "colab": {
   "include_colab_link": true,
   "name": "QualityMetrics_HW.ipynb",
   "provenance": []
  },
  "kernelspec": {
   "display_name": "Python 3 (ipykernel)",
   "language": "python",
   "name": "python3"
  },
  "language_info": {
   "codemirror_mode": {
    "name": "ipython",
    "version": 3
   },
   "file_extension": ".py",
   "mimetype": "text/x-python",
   "name": "python",
   "nbconvert_exporter": "python",
   "pygments_lexer": "ipython3",
   "version": "3.8.11"
  }
 },
 "nbformat": 4,
 "nbformat_minor": 1
}
